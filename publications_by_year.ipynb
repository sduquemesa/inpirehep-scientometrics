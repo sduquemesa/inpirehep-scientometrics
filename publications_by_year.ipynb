{
 "cells": [
  {
   "cell_type": "markdown",
   "metadata": {},
   "source": [
    "# Publications by Year"
   ]
  },
  {
   "cell_type": "code",
   "execution_count": 111,
   "metadata": {},
   "outputs": [],
   "source": [
    "import pandas as pd\n",
    "import matplotlib.pyplot as plt\n",
    "import numpy as np\n",
    "\n",
    "# setup mongo conenction to DB in clustercien\n",
    "import pymongo\n",
    "from pymongo import MongoClient\n",
    "db_client = MongoClient('172.19.31.5', 27017)\n",
    "db = db_client['inspirehep']\n",
    "articles = db['articles']        # use the \"articles\" collection of the database"
   ]
  },
  {
   "cell_type": "code",
   "execution_count": 115,
   "metadata": {},
   "outputs": [],
   "source": [
    "cursor = articles.find(\n",
    "    {},   # query search\n",
    "    {'created': 1}    # fields contained in result\n",
    ")"
   ]
  },
  {
   "cell_type": "code",
   "execution_count": 116,
   "metadata": {},
   "outputs": [],
   "source": [
    "documents = list(cursor)"
   ]
  },
  {
   "cell_type": "code",
   "execution_count": 117,
   "metadata": {},
   "outputs": [],
   "source": [
    "df = pd.DataFrame(documents)"
   ]
  },
  {
   "cell_type": "code",
   "execution_count": 118,
   "metadata": {},
   "outputs": [
    {
     "data": {
      "text/plain": [
       "(14998, 2)"
      ]
     },
     "execution_count": 118,
     "metadata": {},
     "output_type": "execute_result"
    }
   ],
   "source": [
    "df.shape"
   ]
  },
  {
   "cell_type": "code",
   "execution_count": 119,
   "metadata": {},
   "outputs": [],
   "source": [
    "df.created = pd.to_datetime(df.created)"
   ]
  },
  {
   "cell_type": "code",
   "execution_count": 120,
   "metadata": {},
   "outputs": [],
   "source": [
    "grouped_by_year_df = df.groupby(df.created.dt.year)['created'].count()"
   ]
  },
  {
   "cell_type": "code",
   "execution_count": 121,
   "metadata": {},
   "outputs": [],
   "source": [
    "plt.rcParams.update({'font.size': 18})"
   ]
  },
  {
   "cell_type": "code",
   "execution_count": 122,
   "metadata": {},
   "outputs": [
    {
     "data": {
      "image/png": "[encoded data removed]",
      "text/plain": [
       "<Figure size 576x432 with 1 Axes>"
      ]
     },
     "metadata": {
      "needs_background": "light"
     },
     "output_type": "display_data"
    }
   ],
   "source": [
    "fig, ax = plt.subplots(nrows=1, ncols=1)\n",
    "\n",
    "grouped_by_year_df.plot.bar(ax = ax, rot = 45, figsize = (8,6))\n",
    "\n",
    "ax.set_xlabel('Year')\n",
    "ax.set_ylabel('Number of Publications')\n",
    "ax.set_title('All Collaborations')\n",
    "\n",
    "ax.set_xlim(1.5,9.5)\n",
    "\n",
    "for p in ax.patches:\n",
    "    ax.annotate('{}'.format(p.get_height()), (p.get_x(), p.get_height()+20), size=10)"
   ]
  },
  {
   "cell_type": "markdown",
   "metadata": {},
   "source": [
    "# CMS and ATLAS "
   ]
  },
  {
   "cell_type": "markdown",
   "metadata": {},
   "source": [
    "Get a pointer to all the documents in the articles collection of the database only with the interesting fields."
   ]
  },
  {
   "cell_type": "code",
   "execution_count": 226,
   "metadata": {},
   "outputs": [],
   "source": [
    "cursor = articles.find(\n",
    "    {},   # query search\n",
    "    {'created': 1,\n",
    "     'metadata.collaborations': 1\n",
    "    }    # fields contained in result\n",
    ")"
   ]
  },
  {
   "cell_type": "markdown",
   "metadata": {},
   "source": [
    "and turn them into a pandas dataframe"
   ]
  },
  {
   "cell_type": "code",
   "execution_count": 227,
   "metadata": {},
   "outputs": [
    {
     "data": {
      "text/html": [
       "<div>\n",
       "<style scoped>\n",
       "    .dataframe tbody tr th:only-of-type {\n",
       "        vertical-align: middle;\n",
       "    }\n",
       "\n",
       "    .dataframe tbody tr th {\n",
       "        vertical-align: top;\n",
       "    }\n",
       "\n",
       "    .dataframe thead th {\n",
       "        text-align: right;\n",
       "    }\n",
       "</style>\n",
       "<table border=\"1\" class=\"dataframe\">\n",
       "  <thead>\n",
       "    <tr style=\"text-align: right;\">\n",
       "      <th></th>\n",
       "      <th>_id</th>\n",
       "      <th>created</th>\n",
       "      <th>metadata</th>\n",
       "    </tr>\n",
       "  </thead>\n",
       "  <tbody>\n",
       "    <tr>\n",
       "      <th>6789</th>\n",
       "      <td>1592277</td>\n",
       "      <td>2017-04-19T00:00:00+00:00</td>\n",
       "      <td>{'collaborations': [{'value': 'ALICE'}]}</td>\n",
       "    </tr>\n",
       "    <tr>\n",
       "      <th>5032</th>\n",
       "      <td>1633431</td>\n",
       "      <td>2017-10-31T00:00:00+00:00</td>\n",
       "      <td>{'collaborations': [{'value': 'CMS'}]}</td>\n",
       "    </tr>\n",
       "    <tr>\n",
       "      <th>3915</th>\n",
       "      <td>1716638</td>\n",
       "      <td>2019-01-25T00:00:00+00:00</td>\n",
       "      <td>{}</td>\n",
       "    </tr>\n",
       "    <tr>\n",
       "      <th>5284</th>\n",
       "      <td>1699708</td>\n",
       "      <td>2018-10-23T00:00:00+00:00</td>\n",
       "      <td>{}</td>\n",
       "    </tr>\n",
       "    <tr>\n",
       "      <th>4891</th>\n",
       "      <td>1760950</td>\n",
       "      <td>2019-10-25T00:00:00+00:00</td>\n",
       "      <td>{}</td>\n",
       "    </tr>\n",
       "    <tr>\n",
       "      <th>9951</th>\n",
       "      <td>1414069</td>\n",
       "      <td>2016-01-07T00:00:00+00:00</td>\n",
       "      <td>{'collaborations': [{'value': 'ALICE'}]}</td>\n",
       "    </tr>\n",
       "    <tr>\n",
       "      <th>413</th>\n",
       "      <td>1798846</td>\n",
       "      <td>2020-06-02T00:00:00+00:00</td>\n",
       "      <td>{'collaborations': [{'value': 'ATLAS'}]}</td>\n",
       "    </tr>\n",
       "    <tr>\n",
       "      <th>7774</th>\n",
       "      <td>1596563</td>\n",
       "      <td>2017-04-26T00:00:00+00:00</td>\n",
       "      <td>{'collaborations': [{'value': 'CMS'}]}</td>\n",
       "    </tr>\n",
       "    <tr>\n",
       "      <th>4451</th>\n",
       "      <td>1752917</td>\n",
       "      <td>2019-09-09T00:00:00+00:00</td>\n",
       "      <td>{}</td>\n",
       "    </tr>\n",
       "    <tr>\n",
       "      <th>9493</th>\n",
       "      <td>1436496</td>\n",
       "      <td>2016-03-31T00:00:00+00:00</td>\n",
       "      <td>{'collaborations': [{'value': 'ATLAS'}]}</td>\n",
       "    </tr>\n",
       "  </tbody>\n",
       "</table>\n",
       "</div>"
      ],
      "text/plain": [
       "          _id                    created  \\\n",
       "6789  1592277  2017-04-19T00:00:00+00:00   \n",
       "5032  1633431  2017-10-31T00:00:00+00:00   \n",
       "3915  1716638  2019-01-25T00:00:00+00:00   \n",
       "5284  1699708  2018-10-23T00:00:00+00:00   \n",
       "4891  1760950  2019-10-25T00:00:00+00:00   \n",
       "9951  1414069  2016-01-07T00:00:00+00:00   \n",
       "413   1798846  2020-06-02T00:00:00+00:00   \n",
       "7774  1596563  2017-04-26T00:00:00+00:00   \n",
       "4451  1752917  2019-09-09T00:00:00+00:00   \n",
       "9493  1436496  2016-03-31T00:00:00+00:00   \n",
       "\n",
       "                                      metadata  \n",
       "6789  {'collaborations': [{'value': 'ALICE'}]}  \n",
       "5032    {'collaborations': [{'value': 'CMS'}]}  \n",
       "3915                                        {}  \n",
       "5284                                        {}  \n",
       "4891                                        {}  \n",
       "9951  {'collaborations': [{'value': 'ALICE'}]}  \n",
       "413   {'collaborations': [{'value': 'ATLAS'}]}  \n",
       "7774    {'collaborations': [{'value': 'CMS'}]}  \n",
       "4451                                        {}  \n",
       "9493  {'collaborations': [{'value': 'ATLAS'}]}  "
      ]
     },
     "execution_count": 227,
     "metadata": {},
     "output_type": "execute_result"
    }
   ],
   "source": [
    "df = pd.DataFrame(list(cursor))\n",
    "df.sample(10)"
   ]
  },
  {
   "cell_type": "markdown",
   "metadata": {},
   "source": [
    "Turn the \"created\" column into datetime type"
   ]
  },
  {
   "cell_type": "code",
   "execution_count": 184,
   "metadata": {},
   "outputs": [],
   "source": [
    "df.created = pd.to_datetime(df.created)"
   ]
  },
  {
   "cell_type": "markdown",
   "metadata": {},
   "source": [
    "To unpack the values in the metadata dictionary lets create a new set of columns in the dataframe that indicates if the article is in a certain collaboration:"
   ]
  },
  {
   "cell_type": "code",
   "execution_count": 186,
   "metadata": {},
   "outputs": [],
   "source": [
    "def filter(dic):\n",
    "    new_columns = {'ATLAS': False, \n",
    "                   'CMS': False, \n",
    "                   'ALICE': False, \n",
    "                   'LHCb': False, \n",
    "                   'others': False}\n",
    "    \n",
    "    if 'collaborations' in dic.keys():\n",
    "        \n",
    "        for colab in dic['collaborations']:\n",
    "            if ('ATLAS' in colab['value']):\n",
    "                new_columns['ATLAS'] = True\n",
    "            elif ('CMS' in colab['value']):\n",
    "                new_columns['CMS'] = True\n",
    "            elif ('ALICE' in colab['value']):\n",
    "                new_columns['ALICE'] = True\n",
    "            elif ('LHCb' in colab['value']):\n",
    "                new_columns['LHCb'] = True\n",
    "            else:\n",
    "                new_columns['others'] = True\n",
    "    else:\n",
    "        new_columns['others'] = True\n",
    "    \n",
    "    return new_columns\n",
    "\n",
    "df = pd.concat([df,\n",
    "           pd.DataFrame(list(df.metadata.map(filter).values))],\n",
    "         axis=1)"
   ]
  },
  {
   "cell_type": "markdown",
   "metadata": {},
   "source": [
    "this is how it looks like after the operation is performed"
   ]
  },
  {
   "cell_type": "code",
   "execution_count": 187,
   "metadata": {},
   "outputs": [
    {
     "data": {
      "text/html": [
       "<div>\n",
       "<style scoped>\n",
       "    .dataframe tbody tr th:only-of-type {\n",
       "        vertical-align: middle;\n",
       "    }\n",
       "\n",
       "    .dataframe tbody tr th {\n",
       "        vertical-align: top;\n",
       "    }\n",
       "\n",
       "    .dataframe thead th {\n",
       "        text-align: right;\n",
       "    }\n",
       "</style>\n",
       "<table border=\"1\" class=\"dataframe\">\n",
       "  <thead>\n",
       "    <tr style=\"text-align: right;\">\n",
       "      <th></th>\n",
       "      <th>_id</th>\n",
       "      <th>created</th>\n",
       "      <th>metadata</th>\n",
       "      <th>ALICE</th>\n",
       "      <th>ATLAS</th>\n",
       "      <th>CMS</th>\n",
       "      <th>LHCb</th>\n",
       "      <th>others</th>\n",
       "    </tr>\n",
       "  </thead>\n",
       "  <tbody>\n",
       "    <tr>\n",
       "      <th>5110</th>\n",
       "      <td>1667386</td>\n",
       "      <td>2018-04-13 00:00:00+00:00</td>\n",
       "      <td>{}</td>\n",
       "      <td>False</td>\n",
       "      <td>False</td>\n",
       "      <td>False</td>\n",
       "      <td>False</td>\n",
       "      <td>True</td>\n",
       "    </tr>\n",
       "    <tr>\n",
       "      <th>7011</th>\n",
       "      <td>1732496</td>\n",
       "      <td>2019-05-01 00:00:00+00:00</td>\n",
       "      <td>{}</td>\n",
       "      <td>False</td>\n",
       "      <td>False</td>\n",
       "      <td>False</td>\n",
       "      <td>False</td>\n",
       "      <td>True</td>\n",
       "    </tr>\n",
       "    <tr>\n",
       "      <th>3890</th>\n",
       "      <td>1674532</td>\n",
       "      <td>2018-05-24 00:00:00+00:00</td>\n",
       "      <td>{'collaborations': [{'value': 'ATLAS'}]}</td>\n",
       "      <td>False</td>\n",
       "      <td>True</td>\n",
       "      <td>False</td>\n",
       "      <td>False</td>\n",
       "      <td>False</td>\n",
       "    </tr>\n",
       "    <tr>\n",
       "      <th>6068</th>\n",
       "      <td>1643037</td>\n",
       "      <td>2017-12-14 00:00:00+00:00</td>\n",
       "      <td>{}</td>\n",
       "      <td>False</td>\n",
       "      <td>False</td>\n",
       "      <td>False</td>\n",
       "      <td>False</td>\n",
       "      <td>True</td>\n",
       "    </tr>\n",
       "    <tr>\n",
       "      <th>7720</th>\n",
       "      <td>1509368</td>\n",
       "      <td>2017-01-18 00:00:00+00:00</td>\n",
       "      <td>{}</td>\n",
       "      <td>False</td>\n",
       "      <td>False</td>\n",
       "      <td>False</td>\n",
       "      <td>False</td>\n",
       "      <td>True</td>\n",
       "    </tr>\n",
       "    <tr>\n",
       "      <th>3886</th>\n",
       "      <td>1674874</td>\n",
       "      <td>2018-05-26 00:00:00+00:00</td>\n",
       "      <td>{'collaborations': [{'value': 'ATLAS'}]}</td>\n",
       "      <td>False</td>\n",
       "      <td>True</td>\n",
       "      <td>False</td>\n",
       "      <td>False</td>\n",
       "      <td>False</td>\n",
       "    </tr>\n",
       "    <tr>\n",
       "      <th>3574</th>\n",
       "      <td>1823389</td>\n",
       "      <td>2020-10-19 00:00:00+00:00</td>\n",
       "      <td>{}</td>\n",
       "      <td>False</td>\n",
       "      <td>False</td>\n",
       "      <td>False</td>\n",
       "      <td>False</td>\n",
       "      <td>True</td>\n",
       "    </tr>\n",
       "    <tr>\n",
       "      <th>13500</th>\n",
       "      <td>1592067</td>\n",
       "      <td>2017-04-19 00:00:00+00:00</td>\n",
       "      <td>{}</td>\n",
       "      <td>False</td>\n",
       "      <td>False</td>\n",
       "      <td>False</td>\n",
       "      <td>False</td>\n",
       "      <td>True</td>\n",
       "    </tr>\n",
       "    <tr>\n",
       "      <th>6917</th>\n",
       "      <td>1519831</td>\n",
       "      <td>2017-03-29 00:00:00+00:00</td>\n",
       "      <td>{'collaborations': [{'value': 'ALICE'}]}</td>\n",
       "      <td>True</td>\n",
       "      <td>False</td>\n",
       "      <td>False</td>\n",
       "      <td>False</td>\n",
       "      <td>False</td>\n",
       "    </tr>\n",
       "    <tr>\n",
       "      <th>7033</th>\n",
       "      <td>1735795</td>\n",
       "      <td>2019-05-22 00:00:00+00:00</td>\n",
       "      <td>{}</td>\n",
       "      <td>False</td>\n",
       "      <td>False</td>\n",
       "      <td>False</td>\n",
       "      <td>False</td>\n",
       "      <td>True</td>\n",
       "    </tr>\n",
       "  </tbody>\n",
       "</table>\n",
       "</div>"
      ],
      "text/plain": [
       "           _id                   created  \\\n",
       "5110   1667386 2018-04-13 00:00:00+00:00   \n",
       "7011   1732496 2019-05-01 00:00:00+00:00   \n",
       "3890   1674532 2018-05-24 00:00:00+00:00   \n",
       "6068   1643037 2017-12-14 00:00:00+00:00   \n",
       "7720   1509368 2017-01-18 00:00:00+00:00   \n",
       "3886   1674874 2018-05-26 00:00:00+00:00   \n",
       "3574   1823389 2020-10-19 00:00:00+00:00   \n",
       "13500  1592067 2017-04-19 00:00:00+00:00   \n",
       "6917   1519831 2017-03-29 00:00:00+00:00   \n",
       "7033   1735795 2019-05-22 00:00:00+00:00   \n",
       "\n",
       "                                       metadata  ALICE  ATLAS    CMS   LHCb  \\\n",
       "5110                                         {}  False  False  False  False   \n",
       "7011                                         {}  False  False  False  False   \n",
       "3890   {'collaborations': [{'value': 'ATLAS'}]}  False   True  False  False   \n",
       "6068                                         {}  False  False  False  False   \n",
       "7720                                         {}  False  False  False  False   \n",
       "3886   {'collaborations': [{'value': 'ATLAS'}]}  False   True  False  False   \n",
       "3574                                         {}  False  False  False  False   \n",
       "13500                                        {}  False  False  False  False   \n",
       "6917   {'collaborations': [{'value': 'ALICE'}]}   True  False  False  False   \n",
       "7033                                         {}  False  False  False  False   \n",
       "\n",
       "       others  \n",
       "5110     True  \n",
       "7011     True  \n",
       "3890    False  \n",
       "6068     True  \n",
       "7720     True  \n",
       "3886    False  \n",
       "3574     True  \n",
       "13500    True  \n",
       "6917    False  \n",
       "7033     True  "
      ]
     },
     "execution_count": 187,
     "metadata": {},
     "output_type": "execute_result"
    }
   ],
   "source": [
    "df.sample(10)"
   ]
  },
  {
   "cell_type": "markdown",
   "metadata": {},
   "source": [
    "Now group by collaboration and year and then count the number of published articles"
   ]
  },
  {
   "cell_type": "code",
   "execution_count": 189,
   "metadata": {},
   "outputs": [],
   "source": [
    "ATLAS_counts = df[df.ATLAS == True].groupby(df.created.dt.year)['created'].count().values\n",
    "\n",
    "CMS_counts = df[df.CMS == True].groupby(df.created.dt.year)['created'].count().values\n",
    "\n",
    "LHCb_counts = df[df.LHCb == True].groupby(df.created.dt.year)['created'].count().values\n",
    "\n",
    "ALICE_counts = df[df.ALICE == True].groupby(df.created.dt.year)['created'].count().values\n",
    "\n",
    "others_counts = df[df.others == True].groupby(df.created.dt.year)['created'].count().values\n",
    "\n",
    "labels = df[df.ALICE == True].groupby(df.created.dt.year)['created'].count().keys().values"
   ]
  },
  {
   "cell_type": "markdown",
   "metadata": {},
   "source": [
    "Calculate the total number of articles each year"
   ]
  },
  {
   "cell_type": "code",
   "execution_count": 200,
   "metadata": {},
   "outputs": [],
   "source": [
    "totals = ATLAS_counts+CMS_counts+LHCb_counts+ALICE_counts+others_counts[-8:]"
   ]
  },
  {
   "cell_type": "markdown",
   "metadata": {},
   "source": [
    "and plot..."
   ]
  },
  {
   "cell_type": "markdown",
   "metadata": {},
   "source": [
    "### All articles"
   ]
  },
  {
   "cell_type": "markdown",
   "metadata": {},
   "source": [
    "This includes articles that cite thos in the collaboration, i.e., the \"universe\" of the database"
   ]
  },
  {
   "cell_type": "code",
   "execution_count": 220,
   "metadata": {},
   "outputs": [
    {
     "data": {
      "text/plain": [
       "<matplotlib.legend.Legend at 0x7fc677af6668>"
      ]
     },
     "execution_count": 220,
     "metadata": {},
     "output_type": "execute_result"
    },
    {
     "data": {
      "image/png": "[encoded data removed]",
      "text/plain": [
       "<Figure size 720x576 with 1 Axes>"
      ]
     },
     "metadata": {
      "needs_background": "light"
     },
     "output_type": "display_data"
    }
   ],
   "source": [
    "fig, ax = plt.subplots(figsize=(10,8))\n",
    "\n",
    "plt.rcParams.update({'font.size': 14})\n",
    "\n",
    "ax.bar(labels, ATLAS_counts, label='ATLAS')\n",
    "ax.bar(labels, CMS_counts, bottom=ATLAS_counts,label='CMS')\n",
    "ax.bar(labels, ALICE_counts, bottom=ATLAS_counts+CMS_counts,label='ALICE')\n",
    "ax.bar(labels, LHCb_counts, bottom=ATLAS_counts+ALICE_counts+CMS_counts,label='LHCb')\n",
    "bars = ax.bar(labels, others_counts[-len(labels):], bottom=ATLAS_counts+ALICE_counts+CMS_counts+LHCb_counts,label='others')\n",
    "\n",
    "ax.set_xlabel('Year')\n",
    "ax.set_ylabel('Number of Publications')\n",
    "ax.set_title('All Articles')\n",
    "\n",
    "for p in bars.patches:\n",
    "    idx = bars.patches.index(p)\n",
    "    ax.annotate('{}'.format(totals[idx]), (p.get_x(), totals[idx]+25), size=12)\n",
    "\n",
    "ax.legend()"
   ]
  },
  {
   "cell_type": "markdown",
   "metadata": {},
   "source": [
    "##  Collaborations only\n",
    "\n",
    "Only articles belonging to the ATLAS + CMS + LHCb + ALICE set"
   ]
  },
  {
   "cell_type": "code",
   "execution_count": 222,
   "metadata": {},
   "outputs": [],
   "source": [
    "collab_totals = ATLAS_counts+CMS_counts+LHCb_counts+ALICE_counts"
   ]
  },
  {
   "cell_type": "code",
   "execution_count": 224,
   "metadata": {},
   "outputs": [
    {
     "data": {
      "text/plain": [
       "<matplotlib.legend.Legend at 0x7fc677b41fd0>"
      ]
     },
     "execution_count": 224,
     "metadata": {},
     "output_type": "execute_result"
    },
    {
     "data": {
      "image/png": "[encoded data removed]",
      "text/plain": [
       "<Figure size 720x576 with 1 Axes>"
      ]
     },
     "metadata": {
      "needs_background": "light"
     },
     "output_type": "display_data"
    }
   ],
   "source": [
    "fig, ax = plt.subplots(figsize=(10,8))\n",
    "\n",
    "plt.rcParams.update({'font.size': 14})\n",
    "\n",
    "ax.bar(labels, ATLAS_counts, label='ATLAS')\n",
    "ax.bar(labels, CMS_counts, bottom=ATLAS_counts,label='CMS')\n",
    "ax.bar(labels, ALICE_counts, bottom=ATLAS_counts+CMS_counts,label='ALICE')\n",
    "ax.bar(labels, LHCb_counts, bottom=ATLAS_counts+ALICE_counts+CMS_counts,label='LHCb')\n",
    "\n",
    "ax.set_xlabel('Year')\n",
    "ax.set_ylabel('Number of Publications')\n",
    "ax.set_title('Collaborations')\n",
    "\n",
    "for p in bars.patches:\n",
    "    idx = bars.patches.index(p)\n",
    "    ax.annotate('{}'.format(collab_totals[idx]), (p.get_x(), collab_totals[idx]+25), size=12)\n",
    "\n",
    "ax.legend()"
   ]
  }
 ],
 "metadata": {
  "kernelspec": {
   "display_name": "Python 3",
   "language": "python",
   "name": "python3"
  },
  "language_info": {
   "codemirror_mode": {
    "name": "ipython",
    "version": 3
   },
   "file_extension": ".py",
   "mimetype": "text/x-python",
   "name": "python",
   "nbconvert_exporter": "python",
   "pygments_lexer": "ipython3",
   "version": "3.5.3"
  }
 },
 "nbformat": 4,
 "nbformat_minor": 2
}
